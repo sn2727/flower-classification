{
 "cells": [
  {
   "cell_type": "markdown",
   "metadata": {},
   "source": [
    "# Load Oxford flowers dataset"
   ]
  },
  {
   "cell_type": "code",
   "execution_count": 18,
   "metadata": {},
   "outputs": [],
   "source": [
    "import tensorflow as tf\n",
    "import tensorflow_datasets as tfds\n",
    "import os\n",
    "import numpy as np\n",
    "from PIL import Image\n",
    "\n",
    "# how many of the 102 classes to load \n",
    "max_label = 7"
   ]
  },
  {
   "cell_type": "code",
   "execution_count": 3,
   "metadata": {},
   "outputs": [],
   "source": [
    "# Load Oxford Flowers 102 dataset using tensorflow's datasets loader (~300MB)\n",
    "data_dir = './data'\n",
    "os.makedirs(data_dir, exist_ok=True)\n",
    "dataset, dataset_info = tfds.load('oxford_flowers102', with_info=True, data_dir=data_dir)"
   ]
  },
  {
   "cell_type": "code",
   "execution_count": 19,
   "metadata": {},
   "outputs": [],
   "source": [
    "# Individually save images to use them with torch's dataloader in the main notebook\n",
    "data_dir = \"./data\"\n",
    "\n",
    "# Create directories\n",
    "os.makedirs(data_dir + '/train', exist_ok=True)\n",
    "os.makedirs(data_dir + '/validation', exist_ok=True)\n",
    "os.makedirs(data_dir + '/test', exist_ok=True)\n",
    "\n",
    "# Define the function to save images\n",
    "def save_images(dataset, split):\n",
    "    for i, example in enumerate(dataset[split]):\n",
    "        image, label = example['image'], example['label']\n",
    "        image = Image.fromarray(image.numpy())\n",
    "        if label <= max_label:\n",
    "            os.makedirs(f\"{data_dir}/{split}/{label.numpy()}\", exist_ok=True)\n",
    "            image.save(f'{data_dir}/{split}/{label.numpy()}/{i}.png')\n",
    "\n",
    "\n",
    "# Save images\n",
    "save_images(dataset, 'train')\n",
    "save_images(dataset, 'validation')\n",
    "save_images(dataset, 'test')\n"
   ]
  }
 ],
 "metadata": {
  "kernelspec": {
   "display_name": "Python 3",
   "language": "python",
   "name": "python3"
  },
  "language_info": {
   "codemirror_mode": {
    "name": "ipython",
    "version": 3
   },
   "file_extension": ".py",
   "mimetype": "text/x-python",
   "name": "python",
   "nbconvert_exporter": "python",
   "pygments_lexer": "ipython3",
   "version": "3.8.10"
  }
 },
 "nbformat": 4,
 "nbformat_minor": 2
}
